{
 "cells": [
  {
   "cell_type": "code",
   "execution_count": 36,
   "id": "0bf057ea",
   "metadata": {},
   "outputs": [],
   "source": [
    "import pandas as pd\n",
    "import numpy as np\n",
    "import matplotlib.pyplot as plt\n",
    "from sklearn.metrics import root_mean_squared_error as rmse\n",
    "from alive_progress import alive_bar\n",
    "import time\n",
    "import os\n",
    "\n",
    "# Load the data\n",
    "train_data = pd.read_csv(\"../tmp/filtered_data.csv\")\n",
    "# test_data = pd.read_parquet(\"data/test_data.parquet\")\n",
    "test_data = pd.read_parquet(\"val_Y.parquet\")\n",
    "\n",
    "# Convert expiry to datetime if it's not already\n",
    "if train_data[\"expiry\"].dtype != \"datetime64[ns]\":\n",
    "    train_data[\"expiry\"] = pd.to_datetime(train_data[\"expiry\"])\n",
    "\n",
    "# Get the target expiry date\n",
    "target_date = pd.Timestamp(\"2025-05-08\").date()"
   ]
  },
  {
   "cell_type": "code",
   "execution_count": 37,
   "id": "86dc0476",
   "metadata": {},
   "outputs": [
    {
     "data": {
      "text/plain": [
       "315"
      ]
     },
     "execution_count": 37,
     "metadata": {},
     "output_type": "execute_result"
    }
   ],
   "source": [
    "train_data.isna().sum().sum()"
   ]
  },
  {
   "cell_type": "code",
   "execution_count": 38,
   "id": "50ca6ca8",
   "metadata": {},
   "outputs": [
    {
     "name": "stdout",
     "output_type": "stream",
     "text": [
      "Imputed 0 NaN values in call_iv_23500 with median: 0.297625\n",
      "Imputed 0 NaN values in call_iv_23600 with median: 0.277056\n",
      "Imputed 0 NaN values in call_iv_23700 with median: 0.256366\n",
      "Imputed 0 NaN values in call_iv_23800 with median: 0.235445\n",
      "Imputed 0 NaN values in call_iv_23900 with median: 0.216572\n",
      "Imputed 0 NaN values in call_iv_24000 with median: 0.196701\n",
      "Imputed 0 NaN values in call_iv_26000 with median: 0.339635\n",
      "Imputed 0 NaN values in put_iv_24300 with median: 0.14258349999999997\n",
      "Imputed 0 NaN values in put_iv_24600 with median: 0.151955\n",
      "Imputed 0 NaN values in put_iv_24800 with median: 0.17717650000000001\n",
      "Imputed 0 NaN values in put_iv_24900 with median: 0.1833235\n",
      "Imputed 0 NaN values in put_iv_25000 with median: 0.187438\n",
      "Remaining NaN values in train_data: 0\n"
     ]
    },
    {
     "name": "stderr",
     "output_type": "stream",
     "text": [
      "C:\\Users\\Hp\\AppData\\Local\\Temp\\ipykernel_25584\\2467815212.py:5: FutureWarning: A value is trying to be set on a copy of a DataFrame or Series through chained assignment using an inplace method.\n",
      "The behavior will change in pandas 3.0. This inplace method will never work because the intermediate object on which we are setting values always behaves as a copy.\n",
      "\n",
      "For example, when doing 'df[col].method(value, inplace=True)', try using 'df.method({col: value}, inplace=True)' or df[col] = df[col].method(value) instead, to perform the operation inplace on the original object.\n",
      "\n",
      "\n",
      "  train_data[col].fillna(median_val, inplace=True)\n",
      "C:\\Users\\Hp\\AppData\\Local\\Temp\\ipykernel_25584\\2467815212.py:5: FutureWarning: A value is trying to be set on a copy of a DataFrame or Series through chained assignment using an inplace method.\n",
      "The behavior will change in pandas 3.0. This inplace method will never work because the intermediate object on which we are setting values always behaves as a copy.\n",
      "\n",
      "For example, when doing 'df[col].method(value, inplace=True)', try using 'df.method({col: value}, inplace=True)' or df[col] = df[col].method(value) instead, to perform the operation inplace on the original object.\n",
      "\n",
      "\n",
      "  train_data[col].fillna(median_val, inplace=True)\n",
      "C:\\Users\\Hp\\AppData\\Local\\Temp\\ipykernel_25584\\2467815212.py:5: FutureWarning: A value is trying to be set on a copy of a DataFrame or Series through chained assignment using an inplace method.\n",
      "The behavior will change in pandas 3.0. This inplace method will never work because the intermediate object on which we are setting values always behaves as a copy.\n",
      "\n",
      "For example, when doing 'df[col].method(value, inplace=True)', try using 'df.method({col: value}, inplace=True)' or df[col] = df[col].method(value) instead, to perform the operation inplace on the original object.\n",
      "\n",
      "\n",
      "  train_data[col].fillna(median_val, inplace=True)\n",
      "C:\\Users\\Hp\\AppData\\Local\\Temp\\ipykernel_25584\\2467815212.py:5: FutureWarning: A value is trying to be set on a copy of a DataFrame or Series through chained assignment using an inplace method.\n",
      "The behavior will change in pandas 3.0. This inplace method will never work because the intermediate object on which we are setting values always behaves as a copy.\n",
      "\n",
      "For example, when doing 'df[col].method(value, inplace=True)', try using 'df.method({col: value}, inplace=True)' or df[col] = df[col].method(value) instead, to perform the operation inplace on the original object.\n",
      "\n",
      "\n",
      "  train_data[col].fillna(median_val, inplace=True)\n",
      "C:\\Users\\Hp\\AppData\\Local\\Temp\\ipykernel_25584\\2467815212.py:5: FutureWarning: A value is trying to be set on a copy of a DataFrame or Series through chained assignment using an inplace method.\n",
      "The behavior will change in pandas 3.0. This inplace method will never work because the intermediate object on which we are setting values always behaves as a copy.\n",
      "\n",
      "For example, when doing 'df[col].method(value, inplace=True)', try using 'df.method({col: value}, inplace=True)' or df[col] = df[col].method(value) instead, to perform the operation inplace on the original object.\n",
      "\n",
      "\n",
      "  train_data[col].fillna(median_val, inplace=True)\n",
      "C:\\Users\\Hp\\AppData\\Local\\Temp\\ipykernel_25584\\2467815212.py:5: FutureWarning: A value is trying to be set on a copy of a DataFrame or Series through chained assignment using an inplace method.\n",
      "The behavior will change in pandas 3.0. This inplace method will never work because the intermediate object on which we are setting values always behaves as a copy.\n",
      "\n",
      "For example, when doing 'df[col].method(value, inplace=True)', try using 'df.method({col: value}, inplace=True)' or df[col] = df[col].method(value) instead, to perform the operation inplace on the original object.\n",
      "\n",
      "\n",
      "  train_data[col].fillna(median_val, inplace=True)\n",
      "C:\\Users\\Hp\\AppData\\Local\\Temp\\ipykernel_25584\\2467815212.py:5: FutureWarning: A value is trying to be set on a copy of a DataFrame or Series through chained assignment using an inplace method.\n",
      "The behavior will change in pandas 3.0. This inplace method will never work because the intermediate object on which we are setting values always behaves as a copy.\n",
      "\n",
      "For example, when doing 'df[col].method(value, inplace=True)', try using 'df.method({col: value}, inplace=True)' or df[col] = df[col].method(value) instead, to perform the operation inplace on the original object.\n",
      "\n",
      "\n",
      "  train_data[col].fillna(median_val, inplace=True)\n",
      "C:\\Users\\Hp\\AppData\\Local\\Temp\\ipykernel_25584\\2467815212.py:5: FutureWarning: A value is trying to be set on a copy of a DataFrame or Series through chained assignment using an inplace method.\n",
      "The behavior will change in pandas 3.0. This inplace method will never work because the intermediate object on which we are setting values always behaves as a copy.\n",
      "\n",
      "For example, when doing 'df[col].method(value, inplace=True)', try using 'df.method({col: value}, inplace=True)' or df[col] = df[col].method(value) instead, to perform the operation inplace on the original object.\n",
      "\n",
      "\n",
      "  train_data[col].fillna(median_val, inplace=True)\n",
      "C:\\Users\\Hp\\AppData\\Local\\Temp\\ipykernel_25584\\2467815212.py:5: FutureWarning: A value is trying to be set on a copy of a DataFrame or Series through chained assignment using an inplace method.\n",
      "The behavior will change in pandas 3.0. This inplace method will never work because the intermediate object on which we are setting values always behaves as a copy.\n",
      "\n",
      "For example, when doing 'df[col].method(value, inplace=True)', try using 'df.method({col: value}, inplace=True)' or df[col] = df[col].method(value) instead, to perform the operation inplace on the original object.\n",
      "\n",
      "\n",
      "  train_data[col].fillna(median_val, inplace=True)\n",
      "C:\\Users\\Hp\\AppData\\Local\\Temp\\ipykernel_25584\\2467815212.py:5: FutureWarning: A value is trying to be set on a copy of a DataFrame or Series through chained assignment using an inplace method.\n",
      "The behavior will change in pandas 3.0. This inplace method will never work because the intermediate object on which we are setting values always behaves as a copy.\n",
      "\n",
      "For example, when doing 'df[col].method(value, inplace=True)', try using 'df.method({col: value}, inplace=True)' or df[col] = df[col].method(value) instead, to perform the operation inplace on the original object.\n",
      "\n",
      "\n",
      "  train_data[col].fillna(median_val, inplace=True)\n",
      "C:\\Users\\Hp\\AppData\\Local\\Temp\\ipykernel_25584\\2467815212.py:5: FutureWarning: A value is trying to be set on a copy of a DataFrame or Series through chained assignment using an inplace method.\n",
      "The behavior will change in pandas 3.0. This inplace method will never work because the intermediate object on which we are setting values always behaves as a copy.\n",
      "\n",
      "For example, when doing 'df[col].method(value, inplace=True)', try using 'df.method({col: value}, inplace=True)' or df[col] = df[col].method(value) instead, to perform the operation inplace on the original object.\n",
      "\n",
      "\n",
      "  train_data[col].fillna(median_val, inplace=True)\n",
      "C:\\Users\\Hp\\AppData\\Local\\Temp\\ipykernel_25584\\2467815212.py:5: FutureWarning: A value is trying to be set on a copy of a DataFrame or Series through chained assignment using an inplace method.\n",
      "The behavior will change in pandas 3.0. This inplace method will never work because the intermediate object on which we are setting values always behaves as a copy.\n",
      "\n",
      "For example, when doing 'df[col].method(value, inplace=True)', try using 'df.method({col: value}, inplace=True)' or df[col] = df[col].method(value) instead, to perform the operation inplace on the original object.\n",
      "\n",
      "\n",
      "  train_data[col].fillna(median_val, inplace=True)\n"
     ]
    }
   ],
   "source": [
    "# Impute median for NaN values in train_data\n",
    "for col in train_data.columns:\n",
    "    if train_data[col].dtype in [\"float64\", \"int64\"] and train_data[col].isna().any():\n",
    "        median_val = train_data[col].median()\n",
    "        train_data[col].fillna(median_val, inplace=True)\n",
    "        print(\n",
    "            f\"Imputed {train_data[col].isna().sum()} NaN values in {col} with median: {median_val}\"\n",
    "        )\n",
    "\n",
    "print(f\"Remaining NaN values in train_data: {train_data.isna().sum().sum()}\")"
   ]
  },
  {
   "cell_type": "code",
   "execution_count": 39,
   "id": "1d658cff",
   "metadata": {},
   "outputs": [
    {
     "data": {
      "text/plain": [
       "0"
      ]
     },
     "execution_count": 39,
     "metadata": {},
     "output_type": "execute_result"
    }
   ],
   "source": [
    "train_data.isna().sum().sum()"
   ]
  },
  {
   "cell_type": "code",
   "execution_count": 40,
   "id": "50729275",
   "metadata": {},
   "outputs": [
    {
     "name": "stdout",
     "output_type": "stream",
     "text": [
      "Original training data shape: 178340\n",
      "New training data shape: (154587, 97)\n",
      "Validation data shape: (23753, 97)\n",
      "Test data shape: (23753, 97)\n"
     ]
    }
   ],
   "source": [
    "# Filter rows with the specified expiry date\n",
    "expiry_filter = train_data[\"expiry\"].dt.date == target_date\n",
    "target_rows = train_data[expiry_filter]\n",
    "\n",
    "# Get indices of rows to be used for validation (50% of the rows with target expiry)\n",
    "validation_indices = target_rows.sample(frac=0.3, random_state=43).index\n",
    "\n",
    "# Create validation set\n",
    "val_data = train_data.loc[validation_indices].copy()\n",
    "\n",
    "# Remove validation data from training set\n",
    "train_data = train_data.drop(validation_indices)\n",
    "\n",
    "# Print shapes to confirm\n",
    "print(f\"Original training data shape: {len(train_data) + len(val_data)}\")\n",
    "print(f\"New training data shape: {train_data.shape}\")\n",
    "print(f\"Validation data shape: {val_data.shape}\")\n",
    "print(f\"Test data shape: {test_data.shape}\")"
   ]
  },
  {
   "cell_type": "code",
   "execution_count": 41,
   "id": "b3e42366",
   "metadata": {},
   "outputs": [],
   "source": [
    "val_Y = pd.read_parquet(\"val_Y.parquet\")\n",
    "sample_val = pd.read_parquet(\"sample_val.parquet\")\n",
    "sample_val_matching = pd.read_csv(\"output/matching.csv\")"
   ]
  },
  {
   "cell_type": "code",
   "execution_count": 42,
   "id": "30684027",
   "metadata": {},
   "outputs": [],
   "source": [
    "import xgboost as xgb\n",
    "from sklearn.model_selection import train_test_split\n",
    "from sklearn.metrics import mean_squared_error\n",
    "\n",
    "def get_prediction(target_col):\n",
    "    # Prepare features and target\n",
    "    feature_cols = ['underlying'] + [col for col in train_data.columns if col.startswith('X')]\n",
    "    X = train_data[feature_cols]\n",
    "    y = train_data[target_col]\n",
    "\n",
    "    # Split into train and validation\n",
    "    X_train, X_val, y_train, y_val = train_test_split(X, y, test_size=0.2, random_state=42)\n",
    "\n",
    "    # Train XGBoost model\n",
    "    xgb_model = xgb.XGBRegressor(\n",
    "    n_estimators=100,\n",
    "    max_depth=6,\n",
    "    learning_rate=0.1,\n",
    "    random_state=42\n",
    "  )\n",
    "\n",
    "    xgb_model.fit(X_train, y_train)\n",
    "\n",
    "    # Make predictions\n",
    "    y_pred = xgb_model.predict(X_val)\n",
    "\n",
    "    # Calculate RMSE\n",
    "    rmse_score = rmse(y_val, y_pred)\n",
    "    print(f\"RMSE for {target_col}: {rmse_score:.6f}\")\n",
    "\n",
    "    # Predict on validation data\n",
    "    val_features = val_data[feature_cols]\n",
    "    val_predictions = xgb_model.predict(val_features)\n",
    "\n",
    "    print(f\"Predictions shape: {val_predictions.shape}\")\n",
    "    print(f\"Sample predictions: {val_predictions[:5]}\")\n"
   ]
  },
  {
   "cell_type": "code",
   "execution_count": 43,
   "id": "c689baf9",
   "metadata": {},
   "outputs": [
    {
     "name": "stdout",
     "output_type": "stream",
     "text": [
      "RMSE for call_iv_25000: 0.096926\n",
      "Predictions shape: (23753,)\n",
      "Sample predictions: [0.17303367 0.14510675 0.18535015 0.22857085 0.23733236]\n"
     ]
    }
   ],
   "source": [
    "get_prediction(\"call_iv_25000\")"
   ]
  },
  {
   "cell_type": "code",
   "execution_count": 44,
   "id": "9407dfc1",
   "metadata": {},
   "outputs": [
    {
     "name": "stdout",
     "output_type": "stream",
     "text": [
      "Expiry mapping: {Timestamp('2025-04-24 00:00:00'): 0, Timestamp('2025-04-30 00:00:00'): 1, Timestamp('2025-05-08 00:00:00'): 2}\n",
      "Train data expiry values: [0, 1, 2]\n",
      "Val data expiry values: [2]\n"
     ]
    }
   ],
   "source": [
    "# Convert expiry dates to integer labels\n",
    "unique_expiries = sorted(train_data['expiry'].unique())\n",
    "expiry_mapping = {expiry: i for i, expiry in enumerate(unique_expiries)}\n",
    "\n",
    "# Apply mapping to train_data\n",
    "train_data['expiry'] = train_data['expiry'].map(expiry_mapping)\n",
    "\n",
    "# Apply same mapping to val_data\n",
    "val_data['expiry'] = val_data['expiry'].map(expiry_mapping)\n",
    "\n",
    "print(f\"Expiry mapping: {expiry_mapping}\")\n",
    "print(f\"Train data expiry values: {sorted(train_data['expiry'].unique())}\")\n",
    "print(f\"Val data expiry values: {sorted(val_data['expiry'].unique())}\")"
   ]
  },
  {
   "cell_type": "code",
   "execution_count": 45,
   "id": "f786fcb0",
   "metadata": {},
   "outputs": [],
   "source": [
    "# sample_val.expiry = 2\n",
    "# val_Y.expiry = 2"
   ]
  },
  {
   "cell_type": "code",
   "execution_count": 46,
   "id": "91da4f9b",
   "metadata": {},
   "outputs": [],
   "source": [
    "# sample_val"
   ]
  },
  {
   "cell_type": "code",
   "execution_count": 47,
   "id": "343b8046",
   "metadata": {},
   "outputs": [
    {
     "data": {
      "text/plain": [
       "['put_iv_22500',\n",
       " 'put_iv_22600',\n",
       " 'put_iv_22700',\n",
       " 'put_iv_22800',\n",
       " 'put_iv_22900',\n",
       " 'put_iv_23000',\n",
       " 'put_iv_23100',\n",
       " 'put_iv_23200',\n",
       " 'put_iv_23300',\n",
       " 'put_iv_23400',\n",
       " 'put_iv_23500',\n",
       " 'put_iv_23600',\n",
       " 'put_iv_23700',\n",
       " 'put_iv_23800',\n",
       " 'put_iv_23900',\n",
       " 'put_iv_24000',\n",
       " 'put_iv_24100',\n",
       " 'put_iv_24200',\n",
       " 'put_iv_24300',\n",
       " 'put_iv_24400',\n",
       " 'put_iv_24500',\n",
       " 'put_iv_24600',\n",
       " 'put_iv_24700',\n",
       " 'put_iv_24800',\n",
       " 'put_iv_24900',\n",
       " 'put_iv_25000']"
      ]
     },
     "execution_count": 47,
     "metadata": {},
     "output_type": "execute_result"
    }
   ],
   "source": [
    "common_cols = [col for col in val_Y.columns if col.startswith('put') and col in test_data.columns]\n",
    "common_cols"
   ]
  },
  {
   "cell_type": "code",
   "execution_count": 48,
   "id": "299fcf13",
   "metadata": {},
   "outputs": [],
   "source": [
    "import pandas as pd\n",
    "import numpy as np\n",
    "from xgboost import XGBRegressor\n",
    "from sklearn.model_selection import train_test_split\n",
    "from sklearn.metrics import mean_squared_error, r2_score\n",
    "from sklearn.preprocessing import StandardScaler\n",
    "from sklearn.metrics import root_mean_squared_error as rmse\n",
    "\n",
    "\n",
    "def train_xgb(given_df, test_df, col1, col2):\n",
    "    # -----------------------------\n",
    "    # Step 1: Setup\n",
    "    # -----------------------------\n",
    "    # Define your target\n",
    "    target_col = col2\n",
    "\n",
    "    # Add additional features\n",
    "    feature_cols = [col1 ]+ [\"underlying\"]  # Add more if available\n",
    "\n",
    "    # -----------------------------\n",
    "    # Step 2: Prepare Training Data\n",
    "    # -----------------------------\n",
    "    # Drop rows with NaN in any input or the target\n",
    "    given_df = given_df[feature_cols + [target_col]].dropna()\n",
    "\n",
    "    X = given_df[feature_cols]\n",
    "    y = given_df[target_col]\n",
    "\n",
    "    # Optional: Normalize features\n",
    "    scaler = StandardScaler()\n",
    "    X_scaled = scaler.fit_transform(X)\n",
    "\n",
    "    # -----------------------------\n",
    "    # Step 3: Train XGBoost Regressor\n",
    "    # -----------------------------\n",
    "    xgb_model = XGBRegressor(\n",
    "        n_estimators=800,\n",
    "        learning_rate=0.1,\n",
    "        subsample=0.9,\n",
    "        random_state=43,\n",
    "    )\n",
    "\n",
    "    xgb_model.fit(X_scaled, y)\n",
    "\n",
    "    # -----------------------------\n",
    "    # Step 4: Predict in Test Data\n",
    "    # -----------------------------\n",
    "    # Test: Make sure underlying and IVs (except target) are available\n",
    "    test_data = val_Y[feature_cols].copy()\n",
    "    test_data_scaled = scaler.transform(test_data)\n",
    "\n",
    "    # Predict target column\n",
    "    predicted_call_iv_25000 = xgb_model.predict(test_data_scaled)\n",
    "\n",
    "    # -----------------------------\n",
    "    # Step 5: Impute into Test DataFrame\n",
    "    # -----------------------------\n",
    "    test_imputed = test_df.copy()\n",
    "    missing_mask = test_imputed[target_col].isna()\n",
    "    test_imputed.loc[missing_mask, target_col] = predicted_call_iv_25000[missing_mask]\n",
    "    # return test_imputed\n",
    "    print(col1, col2, rmse(val_Y[target_col], test_imputed[target_col]))"
   ]
  },
  {
   "cell_type": "code",
   "execution_count": 49,
   "id": "304cf9de",
   "metadata": {},
   "outputs": [],
   "source": [
    "# pred_col_fin = [\n",
    "#     \"call_iv_24000\",\n",
    "#     \"call_iv_24700\",\n",
    "#     \"call_iv_24800\",\n",
    "#     \"call_iv_25000\",\n",
    "#     \"call_iv_25200\",\n",
    "#     \"call_iv_25300\",\n",
    "#     \"call_iv_25400\",\n",
    "#     \"call_iv_25500\",\n",
    "#     \"call_iv_25600\",\n",
    "#     \"call_iv_25700\",\n",
    "#     \"call_iv_25800\",\n",
    "#     \"call_iv_25900\",\n",
    "#     \"call_iv_26000\",\n",
    "# ]"
   ]
  },
  {
   "cell_type": "code",
   "execution_count": 50,
   "id": "ba28f5b2",
   "metadata": {},
   "outputs": [
    {
     "data": {
      "text/plain": [
       "(23753, 97)"
      ]
     },
     "execution_count": 50,
     "metadata": {},
     "output_type": "execute_result"
    }
   ],
   "source": [
    "test_data.shape"
   ]
  },
  {
   "cell_type": "code",
   "execution_count": 51,
   "id": "779e92bb",
   "metadata": {},
   "outputs": [
    {
     "data": {
      "text/plain": [
       "0"
      ]
     },
     "execution_count": 51,
     "metadata": {},
     "output_type": "execute_result"
    }
   ],
   "source": [
    "test_data.isna().sum().sum()"
   ]
  },
  {
   "cell_type": "code",
   "execution_count": 52,
   "id": "80f1d32a",
   "metadata": {},
   "outputs": [
    {
     "name": "stdout",
     "output_type": "stream",
     "text": [
      "put_iv_22500 put_iv_22600 0.000825514883560068\n",
      "put_iv_22600 put_iv_22700 0.0007220558571293765\n",
      "put_iv_22700 put_iv_22800 0.0006118808134489837\n",
      "put_iv_22800 put_iv_22900 0.0005608611460560838\n",
      "put_iv_22900 put_iv_23000 0.0005265796036443959\n",
      "put_iv_23000 put_iv_23100 0.0005157638987160439\n",
      "put_iv_23100 put_iv_23200 0.0005190693779481458\n",
      "put_iv_23200 put_iv_23300 0.0004966548729080769\n",
      "put_iv_23300 put_iv_23400 0.0005433230536344352\n",
      "put_iv_23400 put_iv_23500 0.0005138172847992319\n",
      "put_iv_23500 put_iv_23600 0.0005406595501187685\n",
      "put_iv_23600 put_iv_23700 0.0005895585251452107\n",
      "put_iv_23700 put_iv_23800 0.0006186291434698149\n",
      "put_iv_23800 put_iv_23900 0.0005897467111288799\n",
      "put_iv_23900 put_iv_24000 0.0005681772083166032\n",
      "put_iv_24000 put_iv_24100 0.0012575834161098413\n",
      "put_iv_24100 put_iv_24200 0.0017646315788610503\n",
      "put_iv_24200 put_iv_24300 0.003218382738516623\n",
      "put_iv_24300 put_iv_24400 0.0027492750332590477\n",
      "put_iv_24400 put_iv_24500 0.009024966431520525\n",
      "put_iv_24500 put_iv_24600 0.0023507103862215866\n",
      "put_iv_24600 put_iv_24700 0.0018328792068244052\n",
      "put_iv_24700 put_iv_24800 0.0012239735649572348\n",
      "put_iv_24800 put_iv_24900 0.0025279860426003138\n",
      "put_iv_24900 put_iv_25000 0.002390301245192772\n"
     ]
    }
   ],
   "source": [
    "for i in range(common_cols.__len__()-1):\n",
    "\n",
    "    # print(\"Predicting for:\", common_cols[i], \"->\", common_cols[i + 1])\n",
    "     train_xgb(\n",
    "        train_data,\n",
    "        sample_val,\n",
    "        common_cols[i],\n",
    "        common_cols[i + 1],\n",
    "    )"
   ]
  },
  {
   "cell_type": "code",
   "execution_count": 53,
   "id": "2b62609b",
   "metadata": {},
   "outputs": [
    {
     "data": {
      "text/plain": [
       "0"
      ]
     },
     "execution_count": 53,
     "metadata": {},
     "output_type": "execute_result"
    }
   ],
   "source": [
    "test_data.isna().sum().sum()"
   ]
  },
  {
   "cell_type": "code",
   "execution_count": 54,
   "id": "c20ce800",
   "metadata": {},
   "outputs": [
    {
     "name": "stdout",
     "output_type": "stream",
     "text": [
      "Number of rows in test_data with no NaN values: 23753\n"
     ]
    }
   ],
   "source": [
    "test_data_no_nan = test_data.dropna()\n",
    "print(f\"Number of rows in test_data with no NaN values: {len(test_data_no_nan)}\")"
   ]
  },
  {
   "cell_type": "code",
   "execution_count": null,
   "id": "a81a5462",
   "metadata": {},
   "outputs": [],
   "source": []
  }
 ],
 "metadata": {
  "kernelspec": {
   "display_name": "Python 3",
   "language": "python",
   "name": "python3"
  },
  "language_info": {
   "codemirror_mode": {
    "name": "ipython",
    "version": 3
   },
   "file_extension": ".py",
   "mimetype": "text/x-python",
   "name": "python",
   "nbconvert_exporter": "python",
   "pygments_lexer": "ipython3",
   "version": "3.10.11"
  }
 },
 "nbformat": 4,
 "nbformat_minor": 5
}
