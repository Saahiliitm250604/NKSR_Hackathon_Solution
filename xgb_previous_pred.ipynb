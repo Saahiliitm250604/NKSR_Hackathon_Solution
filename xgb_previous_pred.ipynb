{
 "cells": [
  {
   "cell_type": "code",
   "execution_count": 106,
   "id": "0bf057ea",
   "metadata": {},
   "outputs": [],
   "source": [
    "import pandas as pd\n",
    "import numpy as np\n",
    "import matplotlib.pyplot as plt\n",
    "from sklearn.metrics import root_mean_squared_error as rmse\n",
    "from alive_progress import alive_bar\n",
    "import time\n",
    "import os\n",
    "\n",
    "# Load the data\n",
    "train_data = pd.read_csv(\"../tmp/filtered_data.csv\")\n",
    "# test_data = pd.read_parquet(\"data/test_data.parquet\")\n",
    "test_data = pd.read_parquet(\"../data/test_data.parquet\")\n",
    "\n",
    "# Convert expiry to datetime if it's not already\n",
    "if train_data[\"expiry\"].dtype != \"datetime64[ns]\":\n",
    "    train_data[\"expiry\"] = pd.to_datetime(train_data[\"expiry\"])\n",
    "\n",
    "# Get the target expiry date\n",
    "target_date = pd.Timestamp(\"2025-05-08\").date()"
   ]
  },
  {
   "cell_type": "code",
   "execution_count": 107,
   "id": "86dc0476",
   "metadata": {},
   "outputs": [
    {
     "data": {
      "text/plain": [
       "315"
      ]
     },
     "execution_count": 107,
     "metadata": {},
     "output_type": "execute_result"
    }
   ],
   "source": [
    "train_data.isna().sum().sum()"
   ]
  },
  {
   "cell_type": "code",
   "execution_count": 108,
   "id": "50ca6ca8",
   "metadata": {},
   "outputs": [
    {
     "name": "stdout",
     "output_type": "stream",
     "text": [
      "Imputed 0 NaN values in call_iv_23500 with median: 0.297625\n",
      "Imputed 0 NaN values in call_iv_23600 with median: 0.277056\n",
      "Imputed 0 NaN values in call_iv_23700 with median: 0.256366\n",
      "Imputed 0 NaN values in call_iv_23800 with median: 0.235445\n",
      "Imputed 0 NaN values in call_iv_23900 with median: 0.216572\n",
      "Imputed 0 NaN values in call_iv_24000 with median: 0.196701\n",
      "Imputed 0 NaN values in call_iv_26000 with median: 0.339635\n",
      "Imputed 0 NaN values in put_iv_24300 with median: 0.14258349999999997\n",
      "Imputed 0 NaN values in put_iv_24600 with median: 0.151955\n",
      "Imputed 0 NaN values in put_iv_24800 with median: 0.17717650000000001\n",
      "Imputed 0 NaN values in put_iv_24900 with median: 0.1833235\n",
      "Imputed 0 NaN values in put_iv_25000 with median: 0.187438\n",
      "Remaining NaN values in train_data: 0\n"
     ]
    },
    {
     "name": "stderr",
     "output_type": "stream",
     "text": [
      "C:\\Users\\Hp\\AppData\\Local\\Temp\\ipykernel_1200\\2467815212.py:5: FutureWarning: A value is trying to be set on a copy of a DataFrame or Series through chained assignment using an inplace method.\n",
      "The behavior will change in pandas 3.0. This inplace method will never work because the intermediate object on which we are setting values always behaves as a copy.\n",
      "\n",
      "For example, when doing 'df[col].method(value, inplace=True)', try using 'df.method({col: value}, inplace=True)' or df[col] = df[col].method(value) instead, to perform the operation inplace on the original object.\n",
      "\n",
      "\n",
      "  train_data[col].fillna(median_val, inplace=True)\n",
      "C:\\Users\\Hp\\AppData\\Local\\Temp\\ipykernel_1200\\2467815212.py:5: FutureWarning: A value is trying to be set on a copy of a DataFrame or Series through chained assignment using an inplace method.\n",
      "The behavior will change in pandas 3.0. This inplace method will never work because the intermediate object on which we are setting values always behaves as a copy.\n",
      "\n",
      "For example, when doing 'df[col].method(value, inplace=True)', try using 'df.method({col: value}, inplace=True)' or df[col] = df[col].method(value) instead, to perform the operation inplace on the original object.\n",
      "\n",
      "\n",
      "  train_data[col].fillna(median_val, inplace=True)\n",
      "C:\\Users\\Hp\\AppData\\Local\\Temp\\ipykernel_1200\\2467815212.py:5: FutureWarning: A value is trying to be set on a copy of a DataFrame or Series through chained assignment using an inplace method.\n",
      "The behavior will change in pandas 3.0. This inplace method will never work because the intermediate object on which we are setting values always behaves as a copy.\n",
      "\n",
      "For example, when doing 'df[col].method(value, inplace=True)', try using 'df.method({col: value}, inplace=True)' or df[col] = df[col].method(value) instead, to perform the operation inplace on the original object.\n",
      "\n",
      "\n",
      "  train_data[col].fillna(median_val, inplace=True)\n",
      "C:\\Users\\Hp\\AppData\\Local\\Temp\\ipykernel_1200\\2467815212.py:5: FutureWarning: A value is trying to be set on a copy of a DataFrame or Series through chained assignment using an inplace method.\n",
      "The behavior will change in pandas 3.0. This inplace method will never work because the intermediate object on which we are setting values always behaves as a copy.\n",
      "\n",
      "For example, when doing 'df[col].method(value, inplace=True)', try using 'df.method({col: value}, inplace=True)' or df[col] = df[col].method(value) instead, to perform the operation inplace on the original object.\n",
      "\n",
      "\n",
      "  train_data[col].fillna(median_val, inplace=True)\n",
      "C:\\Users\\Hp\\AppData\\Local\\Temp\\ipykernel_1200\\2467815212.py:5: FutureWarning: A value is trying to be set on a copy of a DataFrame or Series through chained assignment using an inplace method.\n",
      "The behavior will change in pandas 3.0. This inplace method will never work because the intermediate object on which we are setting values always behaves as a copy.\n",
      "\n",
      "For example, when doing 'df[col].method(value, inplace=True)', try using 'df.method({col: value}, inplace=True)' or df[col] = df[col].method(value) instead, to perform the operation inplace on the original object.\n",
      "\n",
      "\n",
      "  train_data[col].fillna(median_val, inplace=True)\n",
      "C:\\Users\\Hp\\AppData\\Local\\Temp\\ipykernel_1200\\2467815212.py:5: FutureWarning: A value is trying to be set on a copy of a DataFrame or Series through chained assignment using an inplace method.\n",
      "The behavior will change in pandas 3.0. This inplace method will never work because the intermediate object on which we are setting values always behaves as a copy.\n",
      "\n",
      "For example, when doing 'df[col].method(value, inplace=True)', try using 'df.method({col: value}, inplace=True)' or df[col] = df[col].method(value) instead, to perform the operation inplace on the original object.\n",
      "\n",
      "\n",
      "  train_data[col].fillna(median_val, inplace=True)\n",
      "C:\\Users\\Hp\\AppData\\Local\\Temp\\ipykernel_1200\\2467815212.py:5: FutureWarning: A value is trying to be set on a copy of a DataFrame or Series through chained assignment using an inplace method.\n",
      "The behavior will change in pandas 3.0. This inplace method will never work because the intermediate object on which we are setting values always behaves as a copy.\n",
      "\n",
      "For example, when doing 'df[col].method(value, inplace=True)', try using 'df.method({col: value}, inplace=True)' or df[col] = df[col].method(value) instead, to perform the operation inplace on the original object.\n",
      "\n",
      "\n",
      "  train_data[col].fillna(median_val, inplace=True)\n",
      "C:\\Users\\Hp\\AppData\\Local\\Temp\\ipykernel_1200\\2467815212.py:5: FutureWarning: A value is trying to be set on a copy of a DataFrame or Series through chained assignment using an inplace method.\n",
      "The behavior will change in pandas 3.0. This inplace method will never work because the intermediate object on which we are setting values always behaves as a copy.\n",
      "\n",
      "For example, when doing 'df[col].method(value, inplace=True)', try using 'df.method({col: value}, inplace=True)' or df[col] = df[col].method(value) instead, to perform the operation inplace on the original object.\n",
      "\n",
      "\n",
      "  train_data[col].fillna(median_val, inplace=True)\n",
      "C:\\Users\\Hp\\AppData\\Local\\Temp\\ipykernel_1200\\2467815212.py:5: FutureWarning: A value is trying to be set on a copy of a DataFrame or Series through chained assignment using an inplace method.\n",
      "The behavior will change in pandas 3.0. This inplace method will never work because the intermediate object on which we are setting values always behaves as a copy.\n",
      "\n",
      "For example, when doing 'df[col].method(value, inplace=True)', try using 'df.method({col: value}, inplace=True)' or df[col] = df[col].method(value) instead, to perform the operation inplace on the original object.\n",
      "\n",
      "\n",
      "  train_data[col].fillna(median_val, inplace=True)\n",
      "C:\\Users\\Hp\\AppData\\Local\\Temp\\ipykernel_1200\\2467815212.py:5: FutureWarning: A value is trying to be set on a copy of a DataFrame or Series through chained assignment using an inplace method.\n",
      "The behavior will change in pandas 3.0. This inplace method will never work because the intermediate object on which we are setting values always behaves as a copy.\n",
      "\n",
      "For example, when doing 'df[col].method(value, inplace=True)', try using 'df.method({col: value}, inplace=True)' or df[col] = df[col].method(value) instead, to perform the operation inplace on the original object.\n",
      "\n",
      "\n",
      "  train_data[col].fillna(median_val, inplace=True)\n",
      "C:\\Users\\Hp\\AppData\\Local\\Temp\\ipykernel_1200\\2467815212.py:5: FutureWarning: A value is trying to be set on a copy of a DataFrame or Series through chained assignment using an inplace method.\n",
      "The behavior will change in pandas 3.0. This inplace method will never work because the intermediate object on which we are setting values always behaves as a copy.\n",
      "\n",
      "For example, when doing 'df[col].method(value, inplace=True)', try using 'df.method({col: value}, inplace=True)' or df[col] = df[col].method(value) instead, to perform the operation inplace on the original object.\n",
      "\n",
      "\n",
      "  train_data[col].fillna(median_val, inplace=True)\n",
      "C:\\Users\\Hp\\AppData\\Local\\Temp\\ipykernel_1200\\2467815212.py:5: FutureWarning: A value is trying to be set on a copy of a DataFrame or Series through chained assignment using an inplace method.\n",
      "The behavior will change in pandas 3.0. This inplace method will never work because the intermediate object on which we are setting values always behaves as a copy.\n",
      "\n",
      "For example, when doing 'df[col].method(value, inplace=True)', try using 'df.method({col: value}, inplace=True)' or df[col] = df[col].method(value) instead, to perform the operation inplace on the original object.\n",
      "\n",
      "\n",
      "  train_data[col].fillna(median_val, inplace=True)\n"
     ]
    }
   ],
   "source": [
    "# Impute median for NaN values in train_data\n",
    "for col in train_data.columns:\n",
    "    if train_data[col].dtype in [\"float64\", \"int64\"] and train_data[col].isna().any():\n",
    "        median_val = train_data[col].median()\n",
    "        train_data[col].fillna(median_val, inplace=True)\n",
    "        print(\n",
    "            f\"Imputed {train_data[col].isna().sum()} NaN values in {col} with median: {median_val}\"\n",
    "        )\n",
    "\n",
    "print(f\"Remaining NaN values in train_data: {train_data.isna().sum().sum()}\")"
   ]
  },
  {
   "cell_type": "code",
   "execution_count": 109,
   "id": "1d658cff",
   "metadata": {},
   "outputs": [
    {
     "data": {
      "text/plain": [
       "0"
      ]
     },
     "execution_count": 109,
     "metadata": {},
     "output_type": "execute_result"
    }
   ],
   "source": [
    "train_data.isna().sum().sum()"
   ]
  },
  {
   "cell_type": "code",
   "execution_count": 110,
   "id": "50729275",
   "metadata": {},
   "outputs": [],
   "source": [
    "# # Filter rows with the specified expiry date\n",
    "# expiry_filter = train_data[\"expiry\"].dt.date == target_date\n",
    "# target_rows = train_data[expiry_filter]\n",
    "\n",
    "# # Get indices of rows to be used for validation (50% of the rows with target expiry)\n",
    "# validation_indices = target_rows.sample(frac=0.3, random_state=43).index\n",
    "\n",
    "# # Create validation set\n",
    "# val_data = train_data.loc[validation_indices].copy()\n",
    "\n",
    "# # Remove validation data from training set\n",
    "# train_data = train_data.drop(validation_indices)\n",
    "\n",
    "# # Print shapes to confirm\n",
    "# print(f\"Original training data shape: {len(train_data) + len(val_data)}\")\n",
    "# print(f\"New training data shape: {train_data.shape}\")\n",
    "# print(f\"Validation data shape: {val_data.shape}\")\n",
    "# print(f\"Test data shape: {test_data.shape}\")"
   ]
  },
  {
   "cell_type": "code",
   "execution_count": 111,
   "id": "b3e42366",
   "metadata": {},
   "outputs": [],
   "source": [
    "# val_Y = pd.read_parquet(\"val_Y.parquet\")\n",
    "# sample_val = pd.read_parquet(\"sample_val.parquet\")\n",
    "# sample_val_matching = pd.read_csv(\"output/matching.csv\")"
   ]
  },
  {
   "cell_type": "code",
   "execution_count": 112,
   "id": "30684027",
   "metadata": {},
   "outputs": [],
   "source": [
    "# import xgboost as xgb\n",
    "# from sklearn.model_selection import train_test_split\n",
    "# from sklearn.metrics import mean_squared_error\n",
    "\n",
    "# def get_prediction(target_col):\n",
    "#     # Prepare features and target\n",
    "#     feature_cols = ['underlying'] + [col for col in train_data.columns if col.startswith('X')]\n",
    "#     X = train_data[feature_cols]\n",
    "#     y = train_data[target_col]\n",
    "\n",
    "#     # Split into train and validation\n",
    "#     X_train, X_val, y_train, y_val = train_test_split(X, y, test_size=0.2, random_state=42)\n",
    "\n",
    "#     # Train XGBoost model\n",
    "#     xgb_model = xgb.XGBRegressor(\n",
    "#     n_estimators=100,\n",
    "#     max_depth=6,\n",
    "#     learning_rate=0.1,\n",
    "#     random_state=42\n",
    "#   )\n",
    "\n",
    "#     xgb_model.fit(X_train, y_train)\n",
    "\n",
    "#     # Make predictions\n",
    "#     y_pred = xgb_model.predict(X_val)\n",
    "\n",
    "#     # Calculate RMSE\n",
    "#     rmse_score = rmse(y_val, y_pred)\n",
    "#     print(f\"RMSE for {target_col}: {rmse_score:.6f}\")\n",
    "\n",
    "#     # Predict on validation data\n",
    "#     val_features = val_data[feature_cols]\n",
    "#     val_predictions = xgb_model.predict(val_features)\n",
    "\n",
    "#     print(f\"Predictions shape: {val_predictions.shape}\")\n",
    "#     print(f\"Sample predictions: {val_predictions[:5]}\")\n"
   ]
  },
  {
   "cell_type": "code",
   "execution_count": 113,
   "id": "c689baf9",
   "metadata": {},
   "outputs": [],
   "source": [
    "# get_prediction(\"call_iv_25000\")"
   ]
  },
  {
   "cell_type": "code",
   "execution_count": 114,
   "id": "9407dfc1",
   "metadata": {},
   "outputs": [],
   "source": [
    "# # Convert expiry dates to integer labels\n",
    "# unique_expiries = sorted(train_data['expiry'].unique())\n",
    "# expiry_mapping = {expiry: i for i, expiry in enumerate(unique_expiries)}\n",
    "\n",
    "# # Apply mapping to train_data\n",
    "# train_data['expiry'] = train_data['expiry'].map(expiry_mapping)\n",
    "\n",
    "# # Apply same mapping to val_data\n",
    "# val_data['expiry'] = val_data['expiry'].map(expiry_mapping)\n",
    "\n",
    "# print(f\"Expiry mapping: {expiry_mapping}\")\n",
    "# print(f\"Train data expiry values: {sorted(train_data['expiry'].unique())}\")\n",
    "# print(f\"Val data expiry values: {sorted(val_data['expiry'].unique())}\")"
   ]
  },
  {
   "cell_type": "code",
   "execution_count": 115,
   "id": "f786fcb0",
   "metadata": {},
   "outputs": [],
   "source": [
    "# sample_val.expiry = 2\n",
    "# val_Y.expiry = 2"
   ]
  },
  {
   "cell_type": "code",
   "execution_count": 116,
   "id": "91da4f9b",
   "metadata": {},
   "outputs": [],
   "source": [
    "# sample_val"
   ]
  },
  {
   "cell_type": "code",
   "execution_count": 117,
   "id": "343b8046",
   "metadata": {},
   "outputs": [
    {
     "data": {
      "text/plain": [
       "['call_iv_24000',\n",
       " 'call_iv_24100',\n",
       " 'call_iv_24200',\n",
       " 'call_iv_24300',\n",
       " 'call_iv_24400',\n",
       " 'call_iv_24500',\n",
       " 'call_iv_24600',\n",
       " 'call_iv_24700',\n",
       " 'call_iv_24800',\n",
       " 'call_iv_24900',\n",
       " 'call_iv_25000',\n",
       " 'call_iv_25100',\n",
       " 'call_iv_25200',\n",
       " 'call_iv_25300',\n",
       " 'call_iv_25400',\n",
       " 'call_iv_25500',\n",
       " 'call_iv_25600',\n",
       " 'call_iv_25700',\n",
       " 'call_iv_25800',\n",
       " 'call_iv_25900',\n",
       " 'call_iv_26000']"
      ]
     },
     "execution_count": 117,
     "metadata": {},
     "output_type": "execute_result"
    }
   ],
   "source": [
    "common_cols = [col for col in train_data.columns if col.startswith('call') and col in test_data.columns]\n",
    "common_cols"
   ]
  },
  {
   "cell_type": "code",
   "execution_count": 118,
   "id": "299fcf13",
   "metadata": {},
   "outputs": [],
   "source": [
    "import pandas as pd\n",
    "import numpy as np\n",
    "from xgboost import XGBRegressor\n",
    "from sklearn.model_selection import train_test_split\n",
    "from sklearn.metrics import mean_squared_error, r2_score\n",
    "from sklearn.preprocessing import StandardScaler\n",
    "from sklearn.metrics import root_mean_squared_error as rmse\n",
    "\n",
    "\n",
    "def train_xgb(given_df, test_df, col1, col2):\n",
    "    # -----------------------------\n",
    "    # Step 1: Setup\n",
    "    # -----------------------------\n",
    "    # Define your target\n",
    "    target_col = col2\n",
    "\n",
    "    # Add additional features\n",
    "    feature_cols = [col1 ]+ [\"underlying\"]  # Add more if available\n",
    "\n",
    "    # -----------------------------\n",
    "    # Step 2: Prepare Training Data\n",
    "    # -----------------------------\n",
    "    # Drop rows with NaN in any input or the target\n",
    "    given_df = given_df[feature_cols + [target_col]].dropna()\n",
    "\n",
    "    X = given_df[feature_cols]\n",
    "    y = given_df[target_col]\n",
    "\n",
    "    # Optional: Normalize features\n",
    "    scaler = StandardScaler()\n",
    "    X_scaled = scaler.fit_transform(X)\n",
    "\n",
    "    # -----------------------------\n",
    "    # Step 3: Train XGBoost Regressor\n",
    "    # -----------------------------\n",
    "    xgb_model = XGBRegressor(\n",
    "        n_estimators=800,\n",
    "        learning_rate=0.1,\n",
    "        subsample=0.9,\n",
    "        random_state=43,\n",
    "    )\n",
    "\n",
    "    xgb_model.fit(X_scaled, y)\n",
    "\n",
    "    # -----------------------------\n",
    "    # Step 4: Predict in Test Data\n",
    "    # -----------------------------\n",
    "    # Test: Make sure underlying and IVs (except target) are available\n",
    "    test_data = test_df[feature_cols].copy()\n",
    "    test_data_scaled = scaler.transform(test_data)\n",
    "\n",
    "    # Predict target column\n",
    "    predicted_call_iv_25000 = xgb_model.predict(test_data_scaled)\n",
    "\n",
    "    # -----------------------------\n",
    "    # Step 5: Impute into Test DataFrame\n",
    "    # -----------------------------\n",
    "    test_imputed = test_df.copy()\n",
    "    missing_mask = test_imputed[target_col].isna()\n",
    "    test_imputed.loc[missing_mask, target_col] = predicted_call_iv_25000[missing_mask]\n",
    "    return test_imputed"
   ]
  },
  {
   "cell_type": "code",
   "execution_count": 119,
   "id": "304cf9de",
   "metadata": {},
   "outputs": [],
   "source": [
    "pred_col_fin = [\n",
    "    \"call_iv_24000\",\n",
    "    \"call_iv_24700\",\n",
    "    \"call_iv_24800\",\n",
    "    \"call_iv_25000\",\n",
    "    \"call_iv_25200\",\n",
    "    \"call_iv_25300\",\n",
    "    \"call_iv_25400\",\n",
    "    \"call_iv_25500\",\n",
    "    \"call_iv_25600\",\n",
    "    \"call_iv_25700\",\n",
    "    \"call_iv_25800\",\n",
    "    \"call_iv_25900\",\n",
    "    \"call_iv_26000\",\n",
    "]"
   ]
  },
  {
   "cell_type": "code",
   "execution_count": 120,
   "id": "ba28f5b2",
   "metadata": {},
   "outputs": [
    {
     "data": {
      "text/plain": [
       "(12065, 96)"
      ]
     },
     "execution_count": 120,
     "metadata": {},
     "output_type": "execute_result"
    }
   ],
   "source": [
    "test_data.shape"
   ]
  },
  {
   "cell_type": "code",
   "execution_count": 121,
   "id": "779e92bb",
   "metadata": {},
   "outputs": [
    {
     "data": {
      "text/plain": [
       "376504"
      ]
     },
     "execution_count": 121,
     "metadata": {},
     "output_type": "execute_result"
    }
   ],
   "source": [
    "test_data.isna().sum().sum()"
   ]
  },
  {
   "cell_type": "code",
   "execution_count": 122,
   "id": "80f1d32a",
   "metadata": {},
   "outputs": [
    {
     "name": "stdout",
     "output_type": "stream",
     "text": [
      "Predicting for: call_iv_24600 -> call_iv_24700\n",
      "Predicting for: call_iv_24700 -> call_iv_24800\n",
      "Predicting for: call_iv_24900 -> call_iv_25000\n",
      "Predicting for: call_iv_25100 -> call_iv_25200\n",
      "Predicting for: call_iv_25200 -> call_iv_25300\n",
      "Predicting for: call_iv_25300 -> call_iv_25400\n",
      "Predicting for: call_iv_25400 -> call_iv_25500\n",
      "Predicting for: call_iv_25500 -> call_iv_25600\n",
      "Predicting for: call_iv_25600 -> call_iv_25700\n",
      "Predicting for: call_iv_25700 -> call_iv_25800\n",
      "Predicting for: call_iv_25800 -> call_iv_25900\n",
      "Predicting for: call_iv_25900 -> call_iv_26000\n"
     ]
    }
   ],
   "source": [
    "for i in range(common_cols.__len__()-1):\n",
    "    if(common_cols[i+1] not in pred_col_fin):\n",
    "        continue\n",
    "    print(\"Predicting for:\", common_cols[i], \"->\", common_cols[i + 1])\n",
    "    test_data[~test_data[common_cols[i]].isna()] = train_xgb(\n",
    "        train_data,\n",
    "        test_data[~test_data[common_cols[i]].isna()],\n",
    "        common_cols[i],\n",
    "        common_cols[i + 1],\n",
    "    )"
   ]
  },
  {
   "cell_type": "code",
   "execution_count": 123,
   "id": "2b62609b",
   "metadata": {},
   "outputs": [
    {
     "data": {
      "text/plain": [
       "311488"
      ]
     },
     "execution_count": 123,
     "metadata": {},
     "output_type": "execute_result"
    }
   ],
   "source": [
    "test_data.isna().sum().sum()"
   ]
  },
  {
   "cell_type": "code",
   "execution_count": 124,
   "id": "a13f1ca6",
   "metadata": {},
   "outputs": [
    {
     "data": {
      "text/plain": [
       "['put_iv_23000',\n",
       " 'put_iv_23100',\n",
       " 'put_iv_23200',\n",
       " 'put_iv_23300',\n",
       " 'put_iv_23400',\n",
       " 'put_iv_23500',\n",
       " 'put_iv_23600',\n",
       " 'put_iv_23700',\n",
       " 'put_iv_23800',\n",
       " 'put_iv_23900',\n",
       " 'put_iv_24000',\n",
       " 'put_iv_24100',\n",
       " 'put_iv_24200',\n",
       " 'put_iv_24300',\n",
       " 'put_iv_24400',\n",
       " 'put_iv_24500',\n",
       " 'put_iv_24600',\n",
       " 'put_iv_24700',\n",
       " 'put_iv_24800',\n",
       " 'put_iv_24900',\n",
       " 'put_iv_25000']"
      ]
     },
     "execution_count": 124,
     "metadata": {},
     "output_type": "execute_result"
    }
   ],
   "source": [
    "common_cols2 = [\n",
    "    col\n",
    "    for col in train_data.columns\n",
    "    if col.startswith(\"put\") and col in test_data.columns\n",
    "]\n",
    "common_cols2"
   ]
  },
  {
   "cell_type": "code",
   "execution_count": 125,
   "id": "f9c1d9cd",
   "metadata": {},
   "outputs": [],
   "source": [
    "pred_col_fin2 = ['put_iv_23000',\n",
    " 'put_iv_23100',\n",
    " 'put_iv_23200',\n",
    " 'put_iv_23300',\n",
    " 'put_iv_23400',\n",
    " 'put_iv_23500',\n",
    " 'put_iv_23600',\n",
    " 'put_iv_23700',\n",
    " 'put_iv_23800',\n",
    " 'put_iv_23900',\n",
    " 'put_iv_24000',]"
   ]
  },
  {
   "cell_type": "code",
   "execution_count": 126,
   "id": "a81a5462",
   "metadata": {},
   "outputs": [
    {
     "name": "stdout",
     "output_type": "stream",
     "text": [
      "Predicting for: put_iv_23000 -> put_iv_23100\n",
      "Predicting for: put_iv_23100 -> put_iv_23200\n",
      "Predicting for: put_iv_23200 -> put_iv_23300\n",
      "Predicting for: put_iv_23300 -> put_iv_23400\n",
      "Predicting for: put_iv_23400 -> put_iv_23500\n",
      "Predicting for: put_iv_23500 -> put_iv_23600\n",
      "Predicting for: put_iv_23600 -> put_iv_23700\n",
      "Predicting for: put_iv_23700 -> put_iv_23800\n",
      "Predicting for: put_iv_23800 -> put_iv_23900\n",
      "Predicting for: put_iv_23900 -> put_iv_24000\n"
     ]
    }
   ],
   "source": [
    "for i in range(common_cols2.__len__() - 1):\n",
    "    if common_cols2[i + 1] not in pred_col_fin2:\n",
    "        continue\n",
    "    print(\"Predicting for:\", common_cols2[i], \"->\", common_cols2[i + 1])\n",
    "    test_data[~test_data[common_cols2[i]].isna()] = train_xgb(\n",
    "        train_data,\n",
    "        test_data[~test_data[common_cols2[i]].isna()],\n",
    "        common_cols2[i],\n",
    "        common_cols2[i + 1],\n",
    "    )"
   ]
  },
  {
   "cell_type": "code",
   "execution_count": 127,
   "id": "0b49e95d",
   "metadata": {},
   "outputs": [
    {
     "data": {
      "text/plain": [
       "250059"
      ]
     },
     "execution_count": 127,
     "metadata": {},
     "output_type": "execute_result"
    }
   ],
   "source": [
    "test_data.isna().sum().sum()"
   ]
  },
  {
   "cell_type": "code",
   "execution_count": 128,
   "id": "b0515967",
   "metadata": {},
   "outputs": [],
   "source": [
    "test_data.to_csv(\"finally_trained_test.csv\", index=False)"
   ]
  },
  {
   "cell_type": "code",
   "execution_count": 129,
   "id": "bd0a7a48",
   "metadata": {},
   "outputs": [],
   "source": [
    "test_data[[col for col in test_data.columns if col.startswith(\"call\") or col.startswith(\"put\")]].to_csv(\n",
    "    \"trained_matching_input.csv\", index=False, header=False);"
   ]
  }
 ],
 "metadata": {
  "kernelspec": {
   "display_name": "Python 3",
   "language": "python",
   "name": "python3"
  },
  "language_info": {
   "codemirror_mode": {
    "name": "ipython",
    "version": 3
   },
   "file_extension": ".py",
   "mimetype": "text/x-python",
   "name": "python",
   "nbconvert_exporter": "python",
   "pygments_lexer": "ipython3",
   "version": "3.10.11"
  }
 },
 "nbformat": 4,
 "nbformat_minor": 5
}
