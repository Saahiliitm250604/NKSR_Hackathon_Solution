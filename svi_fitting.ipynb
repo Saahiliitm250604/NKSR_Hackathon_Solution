{
 "cells": [
  {
   "cell_type": "code",
   "execution_count": 89,
   "id": "8c4633ca",
   "metadata": {},
   "outputs": [],
   "source": [
    "import pandas as pd\n",
    "import numpy as np\n",
    "import matplotlib.pyplot as plt\n",
    "from sklearn.metrics import root_mean_squared_error as rmse\n",
    "\n",
    "# Load the data\n",
    "train_data = pd.read_csv(\"tmp/filtered_data.csv\")\n",
    "test_data = pd.read_parquet(\"data/test_data.parquet\")\n",
    "\n",
    "# Convert expiry to datetime if it's not already\n",
    "if train_data[\"expiry\"].dtype != \"datetime64[ns]\":\n",
    "    train_data[\"expiry\"] = pd.to_datetime(train_data[\"expiry\"])\n",
    "\n",
    "# Get the target expiry date\n",
    "target_date = pd.Timestamp(\"2025-05-08\").date()"
   ]
  },
  {
   "cell_type": "code",
   "execution_count": 90,
   "id": "df16e72a",
   "metadata": {},
   "outputs": [],
   "source": [
    "data_path = \"data\"\n",
    "output_path = \"output/\"\n",
    "temp_path = \"tmp/\"\n",
    "\n",
    "sample_submission = pd.read_csv(f\"{data_path}/sample_submission.csv\")\n",
    "submission_cols = sample_submission.columns.tolist()"
   ]
  },
  {
   "cell_type": "code",
   "execution_count": 91,
   "id": "811f9d00",
   "metadata": {},
   "outputs": [
    {
     "name": "stdout",
     "output_type": "stream",
     "text": [
      "Original training data shape: 178340\n",
      "New training data shape: (138752, 97)\n",
      "Validation data shape: (39588, 97)\n",
      "Test data shape: (12065, 96)\n"
     ]
    }
   ],
   "source": [
    "# Filter rows with the specified expiry date\n",
    "expiry_filter = train_data[\"expiry\"].dt.date == target_date\n",
    "target_rows = train_data[expiry_filter]\n",
    "\n",
    "# Get indices of rows to be used for validation (50% of the rows with target expiry)\n",
    "validation_indices = target_rows.sample(frac=0.5, random_state=43).index\n",
    "\n",
    "# Create validation set\n",
    "val_data = train_data.loc[validation_indices].copy()\n",
    "\n",
    "# Remove validation data from training set\n",
    "train_data = train_data.drop(validation_indices)\n",
    "\n",
    "# Print shapes to confirm\n",
    "print(f\"Original training data shape: {len(train_data) + len(val_data)}\")\n",
    "print(f\"New training data shape: {train_data.shape}\")\n",
    "print(f\"Validation data shape: {val_data.shape}\")\n",
    "print(f\"Test data shape: {test_data.shape}\")"
   ]
  },
  {
   "cell_type": "code",
   "execution_count": 92,
   "id": "4c85c600",
   "metadata": {},
   "outputs": [],
   "source": [
    "call_cols = [col for col in train_data.columns if col.startswith(\"call\")]\n",
    "put_cols = [col for col in train_data.columns if col.startswith(\"put\")]"
   ]
  },
  {
   "cell_type": "code",
   "execution_count": null,
   "id": "6fb4b935",
   "metadata": {},
   "outputs": [],
   "source": [
    "import numpy as np\n",
    "import pandas as pd\n",
    "from scipy.optimize import minimize\n",
    "from tqdm import tqdm\n",
    "from multiprocess import Pool, cpu_count\n",
    "\n",
    "\n",
    "def svi_total_variance(k, a, b, rho, m, sigma):\n",
    "    return a + b * (rho * (k - m) + np.sqrt((k - m) ** 2 + sigma**2))\n",
    "\n",
    "\n",
    "# --- Fit SVI to one row ---\n",
    "def fitSVI_row(args):\n",
    "\n",
    "    import numpy as np\n",
    "    import pandas as pd\n",
    "    from scipy.optimize import minimize\n",
    "\n",
    "    # --- SVI formula ---\n",
    "    def svi_total_variance(k, a, b, rho, m, sigma):\n",
    "        return a + b * (rho * (k - m) + np.sqrt((k - m) ** 2 + sigma**2))\n",
    "\n",
    "    row, cols, T = args\n",
    "    # print(row.index)\n",
    "    ivs = row[cols].values.astype(np.float64)\n",
    "    strikes = np.array([float(c.split(\"_\")[-1]) for c in cols])\n",
    "    F = row[\"underlying\"]\n",
    "    k = np.log(strikes / F)\n",
    "\n",
    "    valid = ~np.isnan(ivs)\n",
    "    if valid.sum() < 5:\n",
    "        return ivs  # not enough data\n",
    "\n",
    "    iv_valid = ivs[valid]\n",
    "    w_valid = iv_valid**2 * T\n",
    "    k_valid = k[valid]\n",
    "\n",
    "    def loss(params):\n",
    "        a, b, rho, m, sigma = params\n",
    "        w_fit = svi_total_variance(k_valid, a, b, rho, m, sigma)\n",
    "        return np.mean((w_valid - w_fit) ** 2)\n",
    "\n",
    "    init = [min(w_valid), 0.1, 0.0, np.mean(k_valid), 1]\n",
    "    bounds = [\n",
    "        (0, 2),\n",
    "        (1e-4, 5),\n",
    "        (-0.999, 0.999),\n",
    "        (-2, 2),\n",
    "        (0.1, 2),\n",
    "    ]\n",
    "\n",
    "    res = minimize(loss, init, bounds=bounds, method=\"L-BFGS-B\")\n",
    "    if not res.success:\n",
    "        return ivs\n",
    "\n",
    "    w_fitted = svi_total_variance(k, *res.x)\n",
    "    iv_fitted = np.sqrt(w_fitted / T)\n",
    "    # ivs[~valid] = iv_fitted[~valid]\n",
    "    return iv_fitted\n",
    "\n",
    "\n",
    "# --- Plot SVI fit for a specific row ---\n",
    "def plotSVI(prediction,index, cols, df):\n",
    "    row = df.iloc[index]\n",
    "    ivs = row[cols].values.astype(np.float64)\n",
    "    strikes = np.array([float(c.split(\"_\")[-1]) for c in cols])\n",
    "\n",
    "    valid = ~np.isnan(ivs)\n",
    "    iv_valid = ivs[valid]\n",
    "\n",
    "    plt.figure(figsize=(8, 4))\n",
    "    plt.scatter(strikes, iv_valid, label=\"Observed IVs\", color=\"blue\")\n",
    "    plt.plot(strikes, prediction, label=\"SVI Fit\", color=\"red\")\n",
    "    plt.xlabel(\"Strikes\")\n",
    "    plt.ylabel(\"Implied Volatility\")\n",
    "    plt.title(f\"Fit at index {index}\")\n",
    "    plt.legend()\n",
    "    plt.grid(True)\n",
    "    plt.show()"
   ]
  },
  {
   "cell_type": "code",
   "execution_count": 117,
   "id": "eed93ec0",
   "metadata": {},
   "outputs": [
    {
     "name": "stdout",
     "output_type": "stream",
     "text": [
      "[0.5993501  0.60062033 0.60188817 0.60315362 0.60441668 0.60567734\n",
      " 0.60693559 0.60819143 0.60944484 0.61069583 0.61194439 0.6131905\n",
      " 0.61443417 0.61567539 0.61691415 0.61815044 0.61938428 0.62061564\n",
      " 0.62184452 0.62307092 0.62429484 0.62551626 0.6267352  0.62795163\n",
      " 0.62916556 0.63037699]\n",
      "26 26\n"
     ]
    }
   ],
   "source": [
    "print(fitSVI_row((train_data.iloc[0], call_cols, 1.0)))\n",
    "print(fitSVI_row((train_data.iloc[0], put_cols, 1.0)).__len__(), call_cols.__len__())"
   ]
  },
  {
   "cell_type": "code",
   "execution_count": 96,
   "id": "34aca4a8",
   "metadata": {},
   "outputs": [
    {
     "name": "stdout",
     "output_type": "stream",
     "text": [
      "315\n"
     ]
    }
   ],
   "source": [
    "print(train_data.isna().sum().sum())\n",
    "train_data.dropna(subset=call_cols + put_cols, inplace=True)"
   ]
  },
  {
   "cell_type": "code",
   "execution_count": 98,
   "id": "f2670b38",
   "metadata": {},
   "outputs": [
    {
     "data": {
      "text/plain": [
       "(138453, 97)"
      ]
     },
     "execution_count": 98,
     "metadata": {},
     "output_type": "execute_result"
    }
   ],
   "source": [
    "train_data.shape"
   ]
  },
  {
   "cell_type": "code",
   "execution_count": 106,
   "id": "041f9575",
   "metadata": {},
   "outputs": [
    {
     "name": "stdout",
     "output_type": "stream",
     "text": [
      "[0.670652 0.587549 0.52022  0.444456 0.376451 0.307468 0.236352 0.17202\n",
      " 0.181453 0.253615 0.314909 0.37197  0.432698 0.489569 0.533093 0.578103\n",
      " 0.631264 0.674912 0.717263 0.769936 0.821563 0.851292 0.914199 0.961447\n",
      " 0.994267 1.05584 ]\n",
      "0.0\n"
     ]
    }
   ],
   "source": [
    "from sklearn.metrics import mean_squared_error as mse\n",
    "print(mse(fit_cubic_spline_row(train_data.iloc[1000], call_cols, 1), train_data.iloc[1000][call_cols].values.astype(np.float64)))"
   ]
  },
  {
   "cell_type": "code",
   "execution_count": null,
   "id": "a04d9a30",
   "metadata": {},
   "outputs": [],
   "source": [
    "def parallel_fitSVI(df, cols, T=1.0, processes=None, batch_size=500):\n",
    "    if processes is None:\n",
    "        processes = max(cpu_count() - 1, 1)\n",
    "    print(\"Starting parallel SVI fitting with\", processes, \"processes\")\n",
    "    df_filled = df.copy()\n",
    "    n = len(df)\n",
    "    for start in tqdm(range(0, n, batch_size), desc=\"Fitting SVI\"):\n",
    "        end = min(start + batch_size, n)\n",
    "        batch = df.iloc[start:end]\n",
    "        args = [(row, cols, T) for _, row in batch.iterrows()]\n",
    "\n",
    "        with Pool(processes) as pool:\n",
    "            results = pool.map(fitSVI_row, args)\n",
    "\n",
    "        for i, new_ivs in enumerate(results):\n",
    "            df_filled.iloc[start + i, df.columns.get_indexer(cols)] = new_ivs\n",
    "\n",
    "    return df_filled"
   ]
  }
 ],
 "metadata": {
  "kernelspec": {
   "display_name": "Python 3",
   "language": "python",
   "name": "python3"
  },
  "language_info": {
   "codemirror_mode": {
    "name": "ipython",
    "version": 3
   },
   "file_extension": ".py",
   "mimetype": "text/x-python",
   "name": "python",
   "nbconvert_exporter": "python",
   "pygments_lexer": "ipython3",
   "version": "3.10.11"
  }
 },
 "nbformat": 4,
 "nbformat_minor": 5
}
